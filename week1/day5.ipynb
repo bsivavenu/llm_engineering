{
 "cells": [
  {
   "cell_type": "markdown",
   "id": "a98030af-fcd1-4d63-a36e-38ba053498fa",
   "metadata": {},
   "source": [
    "# A full business solution\n",
    "\n",
    "## Now we will take our project from Day 1 to the next level\n",
    "\n",
    "### BUSINESS CHALLENGE:\n",
    "\n",
    "Create a product that builds a Brochure for a company to be used for prospective clients, investors and potential recruits.\n",
    "\n",
    "We will be provided a company name and their primary website.\n",
    "\n",
    "See the end of this notebook for examples of real-world business applications.\n",
    "\n",
    "And remember: I'm always available if you have problems or ideas! Please do reach out."
   ]
  },
  {
   "cell_type": "code",
   "execution_count": 42,
   "id": "d5b08506-dc8b-4443-9201-5f1848161363",
   "metadata": {},
   "outputs": [],
   "source": [
    "# imports\n",
    "# If these fail, please check you're running from an 'activated' environment with (llms) in the command prompt\n",
    "\n",
    "import os\n",
    "import requests\n",
    "import json\n",
    "from dotenv import load_dotenv\n",
    "from bs4 import BeautifulSoup\n",
    "from IPython.display import Markdown, display, update_display\n",
    "from openai import OpenAI"
   ]
  },
  {
   "cell_type": "code",
   "execution_count": 43,
   "id": "fc5d8880-f2ee-4c06-af16-ecbc0262af61",
   "metadata": {},
   "outputs": [
    {
     "name": "stdout",
     "output_type": "stream",
     "text": [
      "API key looks good so far\n"
     ]
    }
   ],
   "source": [
    "# Initialize and constants\n",
    "\n",
    "load_dotenv(override=True)\n",
    "api_key = os.getenv('OPENAI_API_KEY')\n",
    "\n",
    "if api_key and api_key.startswith('sk-proj-') and len(api_key)>10:\n",
    "    print(\"API key looks good so far\")\n",
    "else:\n",
    "    print(\"There might be a problem with your API key? Please visit the troubleshooting notebook!\")\n",
    "    \n",
    "MODEL = 'gpt-4o-mini'\n",
    "openai = OpenAI()"
   ]
  },
  {
   "cell_type": "code",
   "execution_count": 44,
   "id": "106dd65e-90af-4ca8-86b6-23a41840645b",
   "metadata": {},
   "outputs": [],
   "source": [
    "# A class to represent a Webpage\n",
    "\n",
    "# Some websites need you to use proper headers when fetching them:\n",
    "headers = {\n",
    " \"User-Agent\": \"Mozilla/5.0 (Windows NT 10.0; Win64; x64) AppleWebKit/537.36 (KHTML, like Gecko) Chrome/117.0.0.0 Safari/537.36\"\n",
    "}\n",
    "\n",
    "class Website:\n",
    "    \"\"\"\n",
    "    A utility class to represent a Website that we have scraped, now with links\n",
    "    \"\"\"\n",
    "\n",
    "    def __init__(self, url):\n",
    "        self.url = url\n",
    "        response = requests.get(url, headers=headers)\n",
    "        self.body = response.content\n",
    "        soup = BeautifulSoup(self.body, 'html.parser')\n",
    "        self.title = soup.title.string if soup.title else \"No title found\"\n",
    "        if soup.body:\n",
    "            for irrelevant in soup.body([\"script\", \"style\", \"img\", \"input\"]):\n",
    "                irrelevant.decompose()\n",
    "            self.text = soup.body.get_text(separator=\"\\n\", strip=True)\n",
    "        else:\n",
    "            self.text = \"\"\n",
    "        links = [link.get('href') for link in soup.find_all('a')]\n",
    "        self.links = [link for link in links if link]\n",
    "\n",
    "    def get_contents(self):\n",
    "        return f\"Webpage Title:\\n{self.title}\\nWebpage Contents:\\n{self.text}\\n\\n\""
   ]
  },
  {
   "cell_type": "code",
   "execution_count": 45,
   "id": "e30d8128-933b-44cc-81c8-ab4c9d86589a",
   "metadata": {},
   "outputs": [],
   "source": [
    "# ed = Website(\"https://edwarddonner.com\")\n",
    "# ed.links"
   ]
  },
  {
   "cell_type": "markdown",
   "id": "1771af9c-717a-4fca-bbbe-8a95893312c3",
   "metadata": {},
   "source": [
    "## First step: Have GPT-4o-mini figure out which links are relevant\n",
    "\n",
    "### Use a call to gpt-4o-mini to read the links on a webpage, and respond in structured JSON.  \n",
    "It should decide which links are relevant, and replace relative links such as \"/about\" with \"https://company.com/about\".  \n",
    "We will use \"one shot prompting\" in which we provide an example of how it should respond in the prompt.\n",
    "\n",
    "This is an excellent use case for an LLM, because it requires nuanced understanding. Imagine trying to code this without LLMs by parsing and analyzing the webpage - it would be very hard!\n",
    "\n",
    "Sidenote: there is a more advanced technique called \"Structured Outputs\" in which we require the model to respond according to a spec. We cover this technique in Week 8 during our autonomous Agentic AI project."
   ]
  },
  {
   "cell_type": "code",
   "execution_count": 46,
   "id": "6957b079-0d96-45f7-a26a-3487510e9b35",
   "metadata": {},
   "outputs": [],
   "source": [
    "link_system_prompt = \"You are provided with a list of links found on a webpage. \\\n",
    "You are able to decide which of the links would be most relevant to include in a brochure about the company, \\\n",
    "such as links to an About page, or a Company page, or Careers/Jobs pages.\\n\"\n",
    "link_system_prompt += \"You should respond in JSON as in this example:\"\n",
    "link_system_prompt += \"\"\"\n",
    "{\n",
    "    \"links\": [\n",
    "        {\"type\": \"about page\", \"url\": \"https://full.url/goes/here/about\"},\n",
    "        {\"type\": \"careers page\", \"url\": \"https://another.full.url/careers\"}\n",
    "    ]\n",
    "}\n",
    "\"\"\""
   ]
  },
  {
   "cell_type": "code",
   "execution_count": 47,
   "id": "b97e4068-97ed-4120-beae-c42105e4d59a",
   "metadata": {},
   "outputs": [],
   "source": [
    "# print(link_system_prompt)"
   ]
  },
  {
   "cell_type": "code",
   "execution_count": 48,
   "id": "8e1f601b-2eaf-499d-b6b8-c99050c9d6b3",
   "metadata": {},
   "outputs": [],
   "source": [
    "def get_links_user_prompt(website):\n",
    "    user_prompt = f\"Here is the list of links on the website of {website.url} - \"\n",
    "    user_prompt += \"please decide which of these are relevant web links for a brochure about the company, respond with the full https URL in JSON format. \\\n",
    "Do not include Terms of Service, Privacy, email links.\\n\"\n",
    "    user_prompt += \"Links (some might be relative links):\\n\"\n",
    "    user_prompt += \"\\n\".join(website.links)\n",
    "    return user_prompt"
   ]
  },
  {
   "cell_type": "code",
   "execution_count": 49,
   "id": "6bcbfa78-6395-4685-b92c-22d592050fd7",
   "metadata": {},
   "outputs": [],
   "source": [
    "# print(get_links_user_prompt(ed))"
   ]
  },
  {
   "cell_type": "code",
   "execution_count": 50,
   "id": "a29aca19-ca13-471c-a4b4-5abbfa813f69",
   "metadata": {},
   "outputs": [],
   "source": [
    "def get_links(url):\n",
    "    website = Website(url)\n",
    "    response = openai.chat.completions.create(\n",
    "        model=MODEL,\n",
    "        messages=[\n",
    "            {\"role\": \"system\", \"content\": link_system_prompt},\n",
    "            {\"role\": \"user\", \"content\": get_links_user_prompt(website)}\n",
    "      ],\n",
    "        response_format={\"type\": \"json_object\"}\n",
    "    )\n",
    "    result = response.choices[0].message.content\n",
    "    return json.loads(result)"
   ]
  },
  {
   "cell_type": "code",
   "execution_count": 51,
   "id": "74a827a0-2782-4ae5-b210-4a242a8b4cc2",
   "metadata": {},
   "outputs": [],
   "source": [
    "# # Anthropic has made their site harder to scrape, so I'm using HuggingFace..\n",
    "\n",
    "# huggingface = Website(\"https://huggingface.co\")\n",
    "# huggingface.links"
   ]
  },
  {
   "cell_type": "code",
   "execution_count": 52,
   "id": "d3d583e2-dcc4-40cc-9b28-1e8dbf402924",
   "metadata": {},
   "outputs": [],
   "source": [
    "# get_links(\"https://huggingface.co\")"
   ]
  },
  {
   "cell_type": "markdown",
   "id": "0d74128e-dfb6-47ec-9549-288b621c838c",
   "metadata": {},
   "source": [
    "## Second step: make the brochure!\n",
    "\n",
    "Assemble all the details into another prompt to GPT4-o"
   ]
  },
  {
   "cell_type": "code",
   "execution_count": 53,
   "id": "85a5b6e2-e7ef-44a9-bc7f-59ede71037b5",
   "metadata": {},
   "outputs": [],
   "source": [
    "def get_all_details(url):\n",
    "    result = \"Landing page:\\n\"\n",
    "    result += Website(url).get_contents()\n",
    "    links = get_links(url)\n",
    "    print(\"Found links:\", links)\n",
    "    for link in links[\"links\"]:\n",
    "        result += f\"\\n\\n{link['type']}\\n\"\n",
    "        result += Website(link[\"url\"]).get_contents()\n",
    "    return result"
   ]
  },
  {
   "cell_type": "code",
   "execution_count": 54,
   "id": "5099bd14-076d-4745-baf3-dac08d8e5ab2",
   "metadata": {},
   "outputs": [],
   "source": [
    "# print(get_all_details(\"https://huggingface.co\"))"
   ]
  },
  {
   "cell_type": "code",
   "execution_count": 55,
   "id": "9b863a55-f86c-4e3f-8a79-94e24c1a8cf2",
   "metadata": {},
   "outputs": [],
   "source": [
    "# system_prompt = \"You are an assistant that analyzes the contents of several relevant pages from a company website \\\n",
    "# and creates a short brochure about the company for prospective customers, investors and recruits. Respond in markdown.\\\n",
    "# Include details of company culture, customers and careers/jobs if you have the information.\"\n",
    "\n",
    "# # Or uncomment the lines below for a more humorous brochure - this demonstrates how easy it is to incorporate 'tone':\n",
    "\n",
    "system_prompt = \"You are an assistant that analyzes the contents of several relevant pages from a company website \\\n",
    "and creates a short humorous, entertaining, jokey brochure about the company for prospective customers, investors and recruits. Respond in markdown.\\\n",
    "Include details of company culture, customers and careers/jobs if you have the information.\"\n"
   ]
  },
  {
   "cell_type": "code",
   "execution_count": 56,
   "id": "6ab83d92-d36b-4ce0-8bcc-5bb4c2f8ff23",
   "metadata": {},
   "outputs": [],
   "source": [
    "def get_brochure_user_prompt(company_name, url):\n",
    "    user_prompt = f\"You are looking at a company called: {company_name}\\n\"\n",
    "    user_prompt += f\"Here are the contents of its landing page and other relevant pages; use this information to build a short brochure of the company in markdown.\\n\"\n",
    "    user_prompt += get_all_details(url)\n",
    "    user_prompt = user_prompt[:5_000] # Truncate if more than 5,000 characters\n",
    "    return user_prompt"
   ]
  },
  {
   "cell_type": "code",
   "execution_count": 57,
   "id": "cd909e0b-1312-4ce2-a553-821e795d7572",
   "metadata": {},
   "outputs": [],
   "source": [
    "# get_brochure_user_prompt(\"HuggingFace\", \"https://huggingface.co\")"
   ]
  },
  {
   "cell_type": "code",
   "execution_count": 58,
   "id": "e44de579-4a1a-4e6a-a510-20ea3e4b8d46",
   "metadata": {},
   "outputs": [],
   "source": [
    "def create_brochure(company_name, url):\n",
    "    response = openai.chat.completions.create(\n",
    "        model=MODEL,\n",
    "        messages=[\n",
    "            {\"role\": \"system\", \"content\": system_prompt},\n",
    "            {\"role\": \"user\", \"content\": get_brochure_user_prompt(company_name, url)}\n",
    "          ],\n",
    "    )\n",
    "    result = response.choices[0].message.content\n",
    "    display(Markdown(result))"
   ]
  },
  {
   "cell_type": "code",
   "execution_count": 59,
   "id": "e093444a-9407-42ae-924a-145730591a39",
   "metadata": {},
   "outputs": [
    {
     "name": "stdout",
     "output_type": "stream",
     "text": [
      "Found links: {'links': [{'type': 'about page', 'url': 'https://huggingface.co'}, {'type': 'enterprise page', 'url': 'https://huggingface.co/enterprise'}, {'type': 'pricing page', 'url': 'https://huggingface.co/pricing'}, {'type': 'careers page', 'url': 'https://apply.workable.com/huggingface/'}, {'type': 'blog', 'url': 'https://huggingface.co/blog'}, {'type': 'community discussion', 'url': 'https://discuss.huggingface.co'}, {'type': 'GitHub', 'url': 'https://github.com/huggingface'}, {'type': 'LinkedIn', 'url': 'https://www.linkedin.com/company/huggingface/'}, {'type': 'Twitter', 'url': 'https://twitter.com/huggingface'}]}\n"
     ]
    },
    {
     "data": {
      "text/markdown": [
       "# Welcome to Hugging Face! 🤗\n",
       "\n",
       "**Where AI gets cozy and the future is as bright as our coffee! ☕💡**\n",
       "\n",
       "---\n",
       "\n",
       "## Who Are We?\n",
       "\n",
       "We’re the AI community building the future—one model, one dataset, and one application at a time! At Hugging Face, we believe that the only thing better than a hug is an AI community where you can collaborate and innovate. Why? Because seriously—who doesn't love hugging a robot?!\n",
       "\n",
       "---\n",
       "\n",
       "## What We Do\n",
       "\n",
       "**We give you access to:**  \n",
       "- **1M+ AI Models:** Explore more models than you have fingers! (though it is a bit awkward for our 6-fingered friends)\n",
       "- **250k+ Datasets:** Because one dataset just isn't enough. Add more to the mix!\n",
       "- **Creativity Spaces:** Like a high-tech sandbox—but instead of shovels, you have cutting-edge AI applications!\n",
       "\n",
       "**Trending Models This Week:**  \n",
       "- **HunyuanImage-3.0:** Visuals that make it look like you know what you’re doing.  \n",
       "- **DeepSeek-V3.2-Exp:** For when you want your machine learning to sound more impressive.  \n",
       "- **GLM-4.6:** It’s not just a model; it’s a lifestyle.  \n",
       "\n",
       "---\n",
       "\n",
       "## Culture\n",
       "\n",
       "At Hugging Face, we’re not just about AI—we're a family of AI enthusiasts who lift each other up, just like a great hug! \n",
       "\n",
       "- **Teamwork makes the Dream Work:** Collaboration is our middle name (it can be a little clunky to type, but we persist)!\n",
       "- **Open Source Lovers:** Together, we contribute to open-source ML tooling, ensuring the AI revolution is open for everyone (no secret handshakes required).\n",
       "- **Diversity and Inclusion:** We welcome everyone—both humans and friendly AI. Yes, even your pet robot!\n",
       "\n",
       "---\n",
       "\n",
       "## Join Us!\n",
       "\n",
       "**Careers at Hugging Face:**  \n",
       "Are you a machine learning genius, a wizard of data sets, or simply someone who believes that AI should be fun? We want YOU!  \n",
       "- **Roles available:** Data whisperer, AI philosopher, and the occasional office comedian (applications for the last one are open until the position is filled by our other office comedians).\n",
       "\n",
       "---\n",
       "\n",
       "## Our Customers\n",
       "\n",
       "More than 50,000 organizations trust us to help shape their AI strategies. Even popular giants like Google, Amazon, and Microsoft are hugging it out with us! 💼🤖\n",
       "\n",
       "---\n",
       "\n",
       "## Let's Connect!     \n",
       "    \n",
       "Want to explore AI Apps that make you feel like a superhero? Visit [Hugging Face](https://huggingface.co) and experience the magic yourself! \n",
       "\n",
       "### Remember: If you’re in the AI game, it’s better to go in equipped with a hug! 🤗\n",
       "\n",
       "---\n",
       "\n",
       "*Terms and conditions apply, including the need to occasionally share snacks with AI during training.*"
      ],
      "text/plain": [
       "<IPython.core.display.Markdown object>"
      ]
     },
     "metadata": {},
     "output_type": "display_data"
    }
   ],
   "source": [
    "create_brochure(\"HuggingFace\", \"https://huggingface.co\")"
   ]
  },
  {
   "cell_type": "markdown",
   "id": "61eaaab7-0b47-4b29-82d4-75d474ad8d18",
   "metadata": {},
   "source": [
    "## Finally - a minor improvement\n",
    "\n",
    "With a small adjustment, we can change this so that the results stream back from OpenAI,\n",
    "with the familiar typewriter animation"
   ]
  },
  {
   "cell_type": "code",
   "execution_count": 64,
   "id": "51db0e49-f261-4137-aabe-92dd601f7725",
   "metadata": {},
   "outputs": [],
   "source": [
    "def stream_brochure(company_name, url):\n",
    "    stream = openai.chat.completions.create(\n",
    "        model=MODEL,\n",
    "        messages=[\n",
    "            {\"role\": \"system\", \"content\": system_prompt},\n",
    "            {\"role\": \"user\", \"content\": get_brochure_user_prompt(company_name, url)}\n",
    "          ],\n",
    "        stream=True\n",
    "    )\n",
    "    \n",
    "    response = \"\"\n",
    "    display_handle = display(Markdown(\"\"), display_id=True)\n",
    "    for chunk in stream:\n",
    "        response += chunk.choices[0].delta.content or ''\n",
    "        response = response.replace(\"```\",\"\").replace(\"markdown\", \"\")\n",
    "        update_display(Markdown(response), display_id=display_handle.display_id)"
   ]
  },
  {
   "cell_type": "code",
   "execution_count": 65,
   "id": "56bf0ae3-ee9d-4a72-9cd6-edcac67ceb6d",
   "metadata": {},
   "outputs": [
    {
     "name": "stdout",
     "output_type": "stream",
     "text": [
      "Found links: {'links': [{'type': 'about page', 'url': 'https://www.cnn.com/about'}, {'type': 'careers page', 'url': 'https://careers.wbd.com/cnnjobs'}, {'type': 'company page', 'url': 'https://www.cnn.com/profiles'}, {'type': 'leadership profiles', 'url': 'https://www.cnn.com/profiles/cnn-leadership'}]}\n"
     ]
    },
    {
     "data": {
      "text/markdown": [
       "# CNN Brochure: Your Inside Scoop on All Things Newsworthy! \n",
       "\n",
       "---\n",
       "\n",
       "### Welcome to CNN - Where News Meets Fun!\n",
       "\n",
       "**Breaking News?** We’re always on it! From spicy political gossip to the hottest trends in weather (Did someone say rain?), CNN is your one-stop shop for all things informative and entertaining. It’s like a buffet for your brain - just with fewer calories and more 24-hour coverage.\n",
       "\n",
       "### What’s Brewing Over at CNN?\n",
       "\n",
       "At CNN, we pride ourselves on the *value of feedback*, just like that friend who always asks you to rate their new haircut—awkward, but necessary! From technical issues to ad annoyances, we want to hear from you. Please hold your applause until the end (just kidding; we love it).  \n",
       "\n",
       "We are not just about hard-hitting news but also sprinkle in some entertainment and lifestyle content—because sometimes you need a giggle in between world crises! Welcome to our range of topics: *Politics, Health, Sports, and more!* You can even catch our tasty segment, *CNN Underscored*, where we give you the lowdown on stylish hats and comfy socks!\n",
       "\n",
       "### Our Customers: News Junkies & Coffee Lovers!\n",
       "\n",
       "Our audience is as diverse as a box of chocolates (though we’d never mix politics with sweets—yikes!). Whether you're a *news junkie*, a *celebrity gossip enthusiast*, or a casual reader looking to spice up your Insta feed, we've got something for you! We even have international editions in Arabic and Spanish—because who doesn’t love a little *multilingual* flavor?\n",
       "\n",
       "### The CNN Culture - Where News Meets Vibes!\n",
       "\n",
       "At CNN, we believe in creating a culture that’s *more inclusive than a family reunion* (minus the weird cousin). From our newsroom to your inbox, we promote collaboration, creativity, and the occasional fun debate on the best coffee roast—dark roast, we’re looking at you!\n",
       "\n",
       "Want a career with us? Picture this: you reporting live from the scene, a coffee in one hand, and breakfast burrito in the other. Who wouldn’t want their job to be that exciting? Join our squad and take your career *beyond the news desk*! We’re always looking for bright minds ready to make waves (in a *non-tsunami* way).\n",
       "\n",
       "### Why Choose CNN? \n",
       "\n",
       "- **Expert Reporting:** We dive deep! Just like you into that half-eaten pizza in your fridge.\n",
       "- **Diverse Topics:** Because sometimes you need to know what’s happening from outer space to your local coffee shop.\n",
       "- **Careers with Flavor:** One word: *exciting*. Join our team and become a part of our *news fam*!\n",
       "\n",
       "### Final Thoughts: \n",
       "\n",
       "So, whether you’re here for the news, the entertainment, or that midday chuckle, CNN has got your back. Tune in, follow up, and feel free to give us that feedback—we promise we’ll make a mental note (or write you a sticky!). \n",
       "\n",
       "---\n",
       "\n",
       "**Headline:** *Stay informed, stay entertained – with CNN!* 🎤🎉"
      ],
      "text/plain": [
       "<IPython.core.display.Markdown object>"
      ]
     },
     "metadata": {},
     "output_type": "display_data"
    }
   ],
   "source": [
    "stream_brochure(\"cnn\", \"https://cnn.com\")"
   ]
  },
  {
   "cell_type": "code",
   "execution_count": 62,
   "id": "fdb3f8d8-a3eb-41c8-b1aa-9f60686a653b",
   "metadata": {},
   "outputs": [],
   "source": [
    "# Try changing the system prompt to the humorous version when you make the Brochure for Hugging Face:\n",
    "\n",
    "# stream_brochure(\"HuggingFace\", \"https://huggingface.co\")"
   ]
  },
  {
   "cell_type": "markdown",
   "id": "a27bf9e0-665f-4645-b66b-9725e2a959b5",
   "metadata": {},
   "source": [
    "<table style=\"margin: 0; text-align: left;\">\n",
    "    <tr>\n",
    "        <td style=\"width: 150px; height: 150px; vertical-align: middle;\">\n",
    "            <img src=\"../business.jpg\" width=\"150\" height=\"150\" style=\"display: block;\" />\n",
    "        </td>\n",
    "        <td>\n",
    "            <h2 style=\"color:#181;\">Business applications</h2>\n",
    "            <span style=\"color:#181;\">In this exercise we extended the Day 1 code to make multiple LLM calls, and generate a document.\n",
    "\n",
    "This is perhaps the first example of Agentic AI design patterns, as we combined multiple calls to LLMs. This will feature more in Week 2, and then we will return to Agentic AI in a big way in Week 8 when we build a fully autonomous Agent solution.\n",
    "\n",
    "Generating content in this way is one of the very most common Use Cases. As with summarization, this can be applied to any business vertical. Write marketing content, generate a product tutorial from a spec, create personalized email content, and so much more. Explore how you can apply content generation to your business, and try making yourself a proof-of-concept prototype. See what other students have done in the community-contributions folder -- so many valuable projects -- it's wild!</span>\n",
    "        </td>\n",
    "    </tr>\n",
    "</table>"
   ]
  },
  {
   "cell_type": "markdown",
   "id": "14b2454b-8ef8-4b5c-b928-053a15e0d553",
   "metadata": {},
   "source": [
    "<table style=\"margin: 0; text-align: left;\">\n",
    "    <tr>\n",
    "        <td style=\"width: 150px; height: 150px; vertical-align: middle;\">\n",
    "            <img src=\"../important.jpg\" width=\"150\" height=\"150\" style=\"display: block;\" />\n",
    "        </td>\n",
    "        <td>\n",
    "            <h2 style=\"color:#900;\">Before you move to Week 2 (which is tons of fun)</h2>\n",
    "            <span style=\"color:#900;\">Please see the week1 EXERCISE notebook for your challenge for the end of week 1. This will give you some essential practice working with Frontier APIs, and prepare you well for Week 2.</span>\n",
    "        </td>\n",
    "    </tr>\n",
    "</table>"
   ]
  },
  {
   "cell_type": "markdown",
   "id": "17b64f0f-7d33-4493-985a-033d06e8db08",
   "metadata": {},
   "source": [
    "<table style=\"margin: 0; text-align: left;\">\n",
    "    <tr>\n",
    "        <td style=\"width: 150px; height: 150px; vertical-align: middle;\">\n",
    "            <img src=\"../resources.jpg\" width=\"150\" height=\"150\" style=\"display: block;\" />\n",
    "        </td>\n",
    "        <td>\n",
    "            <h2 style=\"color:#f71;\">A reminder on 3 useful resources</h2>\n",
    "            <span style=\"color:#f71;\">1. The resources for the course are available <a href=\"https://edwarddonner.com/2024/11/13/llm-engineering-resources/\">here.</a><br/>\n",
    "            2. I'm on LinkedIn <a href=\"https://www.linkedin.com/in/eddonner/\">here</a> and I love connecting with people taking the course!<br/>\n",
    "            3. I'm trying out X/Twitter and I'm at <a href=\"https://x.com/edwarddonner\">@edwarddonner<a> and hoping people will teach me how it's done..  \n",
    "            </span>\n",
    "        </td>\n",
    "    </tr>\n",
    "</table>"
   ]
  },
  {
   "cell_type": "markdown",
   "id": "6f48e42e-fa7a-495f-a5d4-26bfc24d60b6",
   "metadata": {},
   "source": [
    "<table style=\"margin: 0; text-align: left;\">\n",
    "    <tr>\n",
    "        <td style=\"width: 150px; height: 150px; vertical-align: middle;\">\n",
    "            <img src=\"../thankyou.jpg\" width=\"150\" height=\"150\" style=\"display: block;\" />\n",
    "        </td>\n",
    "        <td>\n",
    "            <h2 style=\"color:#090;\">Finally! I have a special request for you</h2>\n",
    "            <span style=\"color:#090;\">\n",
    "                My editor tells me that it makes a MASSIVE difference when students rate this course on Udemy - it's one of the main ways that Udemy decides whether to show it to others. If you're able to take a minute to rate this, I'd be so very grateful! And regardless - always please reach out to me at ed@edwarddonner.com if I can help at any point.\n",
    "            </span>\n",
    "        </td>\n",
    "    </tr>\n",
    "</table>"
   ]
  },
  {
   "cell_type": "code",
   "execution_count": 63,
   "id": "b8d3e1a1-ba54-4907-97c5-30f89a24775b",
   "metadata": {},
   "outputs": [
    {
     "name": "stdout",
     "output_type": "stream",
     "text": [
      "Found links: {'links': [{'type': 'about page', 'url': 'https://www.cnn.com/about'}, {'type': 'careers page', 'url': 'https://careers.wbd.com/cnnjobs'}, {'type': 'company page', 'url': 'https://www.cnn.com'}]}\n"
     ]
    },
    {
     "data": {
      "text/markdown": [
       "```markdown\n",
       "# 🥳 Welcome to CNN: 24/7 News with a Side of Humor! 🥳\n",
       "\n",
       "## 🌎 Who Are We?\n",
       "\n",
       "At **CNN**, we bring you the latest and greatest from every corner of the globe and every crevice of your living room! Whether it’s breaking news, political scandals, or the *latest* celebrity haircuts, we’ve got the scoop (and probably some popcorn too). After all, why take life too seriously, when there’s *always* something happening and a new ad to critique?\n",
       "\n",
       "## 🤔 What’s Our Flavor?\n",
       "\n",
       "We serve up a delicious buffet of:\n",
       "- **US & World News**: What’s shaking both near and far. Spoiler alert: It’s often shaking quite vigorously.\n",
       "- **Politics**: All the drama of a reality show, but people take the stakes a little more seriously.\n",
       "- **Health**: Life hacks guaranteed to make you feel great... most of the time.\n",
       "- **Entertainment**: Because Taylor Swift is always breaking up (or making up), and we must keep our viewers updated!\n",
       "- **Sports**: Who needs a playbook? Our sports section covers all the major highlights and maybe a few “oops” moments. \n",
       "- **Science**: Reports on things that sound impossible but are happening anyway — like eating cake for breakfast while staying fit!\n",
       "\n",
       "## 👀 Who’s Watching Us?\n",
       "\n",
       "Our customers? They’re anyone from concerned citizens wanting to know what’s up, to folks just looking for something to keep them awake while they sip their fourth cup of coffee. We know you love feedback, and boy do we appreciate the barrage of responses about our *excellent* ad placements! \n",
       "\n",
       "## 🎉 Culture: We Take News Seriously… but Not That Seriously!\n",
       "\n",
       "At CNN, humor and serious news dance like awkward relatives at a family wedding. Here’s what makes our culture stand out:\n",
       "- **Diversity**: We welcome everyone from reporters who have traveled the globe to those who can barely find their car keys.\n",
       "- **Flexibility**: Like a rubber band! We believe in adapting to every twist and turn in the news world. News is water, and we’re just trying not to drown in it.\n",
       "- **Innovation**: Did you know we even have an actual \"Innovative Cities\" section? Spoiler: it's not just hipster coffee shops and street art (but we do love a good latte)!\n",
       "\n",
       "## 💼 Careers: Want to Join the Fun?\n",
       "\n",
       "Looking for a career where you can use your best witty comebacks and sprinkle some fact-checking magic? CNN is hiring! We’re looking for:\n",
       "- **Reporters** who can spot a story from a mile away! \n",
       "- **Editors** who keep the news straight, rightside-up, and not upside down.\n",
       "- **Marketing Mavericks** - Because someone has to make sure our headlines grab eyeballs without making people cringe too much.\n",
       "- **Tech Wizards** who can fix our slow-loading video player before we lose the attention of A.D.D. viewers!\n",
       "\n",
       "## 🥳 Join the Party or Just Tune In!\n",
       "\n",
       "At CNN, we're on the frontlines bringing you the news you need (and a bunch you didn't) with a splash of humor, a dash of enthusiasm, and lots of commitments to feedback. Grab your coffee, sit back, and let us take you on a wild news ride. Your couch is ready!\n",
       "\n",
       "**Follow us for news about everything - except those items on your to-do list!**\n",
       "\n",
       "---\n",
       "\n",
       "👩‍💻 Get all the updates on your screen and join the conversation!\n",
       "\n",
       "### #CNN #WeHopeYouLaugh #NewsAndNonsense\n",
       "```\n"
      ],
      "text/plain": [
       "<IPython.core.display.Markdown object>"
      ]
     },
     "metadata": {},
     "output_type": "display_data"
    }
   ],
   "source": [
    "create_brochure(\"cnn\", \"https://cnn.com\")"
   ]
  },
  {
   "cell_type": "code",
   "execution_count": null,
   "id": "61630b02",
   "metadata": {},
   "outputs": [],
   "source": []
  },
  {
   "cell_type": "code",
   "execution_count": 74,
   "id": "14f25440",
   "metadata": {},
   "outputs": [],
   "source": [
    "import requests\n",
    "from bs4 import BeautifulSoup\n",
    "from urllib.parse import urljoin\n",
    "\n",
    "def scrape_page_text(base_url, path):\n",
    "    \"\"\"\n",
    "    Scrapes clean visible text from a given webpage.\n",
    "    Returns:\n",
    "        str: Clean text content of the page.\n",
    "    \"\"\"\n",
    "    \n",
    "    url = urljoin(base_url, path)\n",
    "    \n",
    "    headers = {\n",
    "        \"User-Agent\": \"Mozilla/5.0 (Windows NT 10.0; Win64; x64) AppleWebKit/537.36 \"\n",
    "                      \"(KHTML, like Gecko) Chrome/91.0.4472.124 Safari/537.36\"\n",
    "    }\n",
    "\n",
    "    try:\n",
    "        response = requests.get(url, headers=headers, timeout=10)\n",
    "        response.raise_for_status()\n",
    "    except Exception as e:\n",
    "        return f\"Error fetching {url}: {e}\"\n",
    "    \n",
    "    soup = BeautifulSoup(response.text, \"html.parser\")\n",
    "\n",
    "    \n",
    "    for tag in soup([\"script\", \"style\", \"noscript\", \"header\", \"footer\", \"form\", \"nav\"]):\n",
    "        tag.extract()\n",
    "\n",
    "    # Get text\n",
    "    text = soup.get_text(separator=\" \", strip=True)\n",
    "\n",
    "    # Clean extra spaces\n",
    "    return \" \".join(text.split())\n",
    "                       \n"
   ]
  },
  {
   "cell_type": "code",
   "execution_count": 73,
   "id": "98e4b705",
   "metadata": {},
   "outputs": [
    {
     "name": "stdout",
     "output_type": "stream",
     "text": [
      "Useful paths found: ['https://bleacherreport.com/articles/25255248-dolphins-tua-tagovailoa-talks-diet-changes-help-avoid-future-concussions-video?utm_source=cnn.com&utm_medium=referral&utm_campaign=editorial', 'https://cnn.com/cnn-underscored/reviews/best-drip-coffee-makers', 'https://bleacherreport.com/articles/25255180-shedeur-sanders-keeps-making-his-biggest-problem-worse?utm_source=cnn.com&utm_medium=referral&utm_campaign=editorial', 'https://cnn.com/cnn-underscored/reviews/best-kitchen-knife-sets', 'https://cnn.com/newsletters', 'https://bleacherreport.com/articles/25254854-speed-trains-tom-brady-sauce-gardner-amendola-be-nfl-player-new-video?utm_source=cnn.com&utm_medium=referral&utm_campaign=editorial', 'https://cnn.com/cnn-underscored/reviews/truskin-vitamin-c-serum', 'https://www.cnn.com/newsletters', 'https://www.cnn.com/climate/solutions', 'https://cnn.com/cnn-underscored/reviews/best-leaf-blower', 'https://www.cnn.com/cnn-underscored/reviews', 'https://cnn.com/2025/10/02/politics/federal-workers-government-shutdown-emails-partisan', 'https://bleacherreport.com/articles/25255299-sophie-cunningham-starts-joke-gofundme-fines-after-criticizing-wnba-commish?utm_source=cnn.com&utm_medium=referral&utm_campaign=editorial', 'https://cnn.com/cnn-underscored/reviews/best-kitchen-trash-can', 'https://bleacherreport.com/articles/25254435-2025-week-6-college-football-predictions-every-game?utm_source=cnn.com&utm_medium=referral&utm_campaign=editorial', 'https://www.cnn.com/business/work-transformed', 'https://cnn.com/cnn-underscored/reviews/snorinator-anti-snoring-pillow', 'https://www.cnn.com/travel/news', 'https://cnn.com/cnn-underscored/reviews/best-headphones-for-sleeping', 'https://cnn.com/travel/american-woman-move-spain-30s-helping-others', 'https://cnn.com/cnn-underscored/home/editor-favorite-car-products', 'https://help.cnn.com/', 'https://www.cnn.com/about/live-tv', 'https://cnn.com/world/live-news/manchester-uk-synagogue-attack-10-02-25', 'https://www.linkedin.com/company/cnn', 'https://cnn.com/cnn-underscored/reviews/best-water-flossers', 'https://www.cnn.com/about', 'https://cnn.com/2025/10/02/sport/video/afghan-womens-refugee-team-uk-digvid-vrtc', 'https://cnn.com/politics/live-news/government-shutdown-news-10-02-25']\n",
      "--- Content from https://bleacherreport.com/articles/25255248-dolphins-tua-tagovailoa-talks-diet-changes-help-avoid-future-concussions-video?utm_source=cnn.com&utm_medium=referral&utm_campaign=editorial ---\n",
      "Dolphins' Tua Tagovailoa Talks Diet Changes to Help Avoid Future Concussions in Video 02:46 Featured Video Should NFL OT Rules Change? 🤔 AP Photo/Doug Murray Dolphins' Tua Tagovailoa Talks Diet Changes to Help Avoid Future Concussions in Video Adam Wells Oct 2, 2025 Having already adopted certain physical techniques to protect himself, Miami Dolphins quarterback Tua Tagovailoa has also made changes to his diet to help avoid future concussions. Speaking to reporters about his eating habits, Tagov...\n",
      "\n",
      "--- Content from https://cnn.com/cnn-underscored/reviews/best-drip-coffee-makers ---\n",
      "Error fetching https://cnn.com/cnn-underscored/reviews/best-drip-coffee-makers: 403 Client Error: Forbidden for url: https://cnn.com/cnn-underscored/reviews/best-drip-coffee-makers...\n",
      "\n",
      "--- Content from https://bleacherreport.com/articles/25255180-shedeur-sanders-keeps-making-his-biggest-problem-worse?utm_source=cnn.com&utm_medium=referral&utm_campaign=editorial ---\n",
      "Shedeur Sanders Keeps Making His Biggest Problem Worse 01:00 Featured Video Is Jaxson Dart Actually ... The Guy? 🎯 Previous Next AP Photo Shedeur Sanders Keeps Making His Biggest Problem Worse Lee Escobedo Oct 2, 2025 Guess Shedeur Sanders didn't get the memo that an NFL quarterback's job doesn't start at the line of scrimmage. The gig starts the moment you sign that contract to represent the name on the front and back of your jersey. In today's meme-verse, being a quarterback is equal parts tac...\n",
      "\n",
      "--- Content from https://cnn.com/cnn-underscored/reviews/best-kitchen-knife-sets ---\n",
      "Error fetching https://cnn.com/cnn-underscored/reviews/best-kitchen-knife-sets: 403 Client Error: Forbidden for url: https://cnn.com/cnn-underscored/reviews/best-kitchen-knife-sets...\n",
      "\n",
      "--- Content from https://cnn.com/newsletters ---\n",
      "CNN newsletters: Subscribe for news, lifestyle, markets info and more | CNN Daily Breaking News Be the first to know about the biggest stories as they break. Sign up for breaking news email alerts from CNN. Daily Five Things AM We’ll summarize five stories you need to know before starting your day. Daily Five Things PM We recap the most fascinating stories to end your day on a positive note. Weekly Five Good Things Get inspired each week with the five most uplifting stories curated by the 5 Thin...\n",
      "\n",
      "--- Content from https://bleacherreport.com/articles/25254854-speed-trains-tom-brady-sauce-gardner-amendola-be-nfl-player-new-video?utm_source=cnn.com&utm_medium=referral&utm_campaign=editorial ---\n",
      "Speed Trains with Tom Brady, Sauce Gardner, Amendola to Be NFL Player in New Video 02:46 Featured Video Should NFL OT Rules Change? 🤔 AP Photo/Peter Joneleit Speed Trains with Tom Brady, Sauce Gardner, Amendola to Be NFL Player in New Video Julia Stumbaugh Oct 1, 2025 IShowSpeed hit the football field alongside New York Jets star Sauce Gardner and NFL legend Tom Brady in a new video shared Tuesday on his YouTube channel. The training culminated with Brady lining up at the 50-yard line and attemp...\n",
      "\n",
      "--- Content from https://cnn.com/cnn-underscored/reviews/truskin-vitamin-c-serum ---\n",
      "TruSkin Vitamin C Serum review | CNN Underscored All products are independently selected and reviewed by CNN Underscored editors. When you buy through links on our site, we may earn a commission. Learn more Reviews This $22 TruSkin Vitamin C serum proves good skin care doesn’t always cost a ton By Rachel Quigley , CNN Underscored Updated 2:31 PM EDT, Thu October 2, 2025 Link Copied! Rachel Quigley/CNN Underscored What’s in this review How I found TruSkin Vitamin C Facial Serum Why it’s a score F...\n",
      "\n",
      "--- Content from https://www.cnn.com/newsletters ---\n",
      "CNN newsletters: Subscribe for news, lifestyle, markets info and more | CNN Daily Breaking News Be the first to know about the biggest stories as they break. Sign up for breaking news email alerts from CNN. Daily Five Things AM We’ll summarize five stories you need to know before starting your day. Daily Five Things PM We recap the most fascinating stories to end your day on a positive note. Weekly Five Good Things Get inspired each week with the five most uplifting stories curated by the 5 Thin...\n",
      "\n",
      "--- Content from https://www.cnn.com/climate/solutions ---\n",
      "Climate solutions | CNN Climate Solutions • For Subscribers For Subscribers Fervo Energy Company For Subscribers They’re using the techniques honed by oil and gas to find near-limitless clean energy beneath our feet John Hession Photography These sleek, sustainable homes are breaking the stereotype for prefab construction • Video 3:31 AARON CHERRIE PHOTOGRAPHY Video Photographer captures the Milky Way in one of the UK’s darkest places 3:31 • For Subscribers For Subscribers John Moore/Getty Image...\n",
      "\n",
      "--- Content from https://cnn.com/cnn-underscored/reviews/best-leaf-blower ---\n",
      "The best leaf blowers in 2025, tried and tested | CNN Underscored All products are independently selected and reviewed by CNN Underscored editors. When you buy through links on our site, we may earn a commission. Learn more Reviews The best leaf blowers in 2025, tried and tested By Suzanne Kattau , CNN Underscored Updated 2:00 PM EDT, Mon September 29, 2025 Link Copied! Suzanne Kattau/CNN Underscored What's in this guide Best leaf blower: Ego Power+ LB6504 Best budget leaf blower: Black+Decker L...\n",
      "\n",
      "--- Content from https://www.cnn.com/cnn-underscored/reviews ---\n",
      "Product Reviews | CNN Underscored All products are independently selected and reviewed by CNN Underscored editors. When you buy through links on our site, we may earn a commission. Learn more Reviews To help you find and buy what you really need, our product reviews dig deep into how things perform in real-world situations. Our product recommendations and buying advice are based on extensive testing, and we pick only the best of what we’ve used ourselves, so you can spend less time shopping arou...\n",
      "\n",
      "--- Content from https://cnn.com/2025/10/02/politics/federal-workers-government-shutdown-emails-partisan ---\n",
      "Out-of-office messages blaming Democrats for shutdown sent on behalf of some federal workers without their consent | CNN Politics Politics • 5 min read Out-of-office messages blaming Democrats for shutdown sent on behalf of some federal workers without their consent By Sunlen Serfaty , René Marsh, Michael Williams , CNN PUBLISHED Oct 2, 2025, 2:27 PM ET An American flag and Department of Education flag whip in the wind outside the department's headquarters in Washington, DC, on on March 6. Chip ...\n",
      "\n",
      "--- Content from https://bleacherreport.com/articles/25255299-sophie-cunningham-starts-joke-gofundme-fines-after-criticizing-wnba-commish?utm_source=cnn.com&utm_medium=referral&utm_campaign=editorial ---\n",
      "Sophie Cunningham Starts 'Joke' GoFundMe for Fines After Criticizing WNBA Commish 01:59 Featured Video Dodgers Advance to 13th Straight NLDS 🔥 Andrew J. Clark/ISI Photos/ISI Photos via Getty Images Sophie Cunningham Starts 'Joke' GoFundMe for Fines After Criticizing WNBA Commish Joseph Zucker Oct 2, 2025 Indiana Fever guard Sophie Cunningham started a GoFundMe after receiving multiple fines across the 2025 WNBA season. \"This is more of a joke than anything. For fines only or to charity or for a ...\n",
      "\n",
      "--- Content from https://cnn.com/cnn-underscored/reviews/best-kitchen-trash-can ---\n",
      "Best kitchen trash cans in 2025, tried and tested | CNN Underscored All products are independently selected and reviewed by CNN Underscored editors. When you buy through links on our site, we may earn a commission. Learn more Reviews I hate taking out the trash, but this is the best kitchen trash can I’ve tested By Gareen Puglia , CNN Underscored Published 4:00 PM EDT, Thu October 2, 2025 Link Copied! Gareen Puglia/CNN Underscored What's in this guide Best kitchen trash can: Simplehuman Slim Ste...\n",
      "\n",
      "--- Content from https://bleacherreport.com/articles/25254435-2025-week-6-college-football-predictions-every-game?utm_source=cnn.com&utm_medium=referral&utm_campaign=editorial ---\n",
      "2025 Week 6 College Football Predictions for Every Game 01:16 Featured Video Which CFB QB Looks Like the No. 1 Pick? 🤔 Previous Next 2025 Week 6 College Football Predictions for Every Game David Kenyon Oct 1, 2025 While the dust has settled on a hectic weekend in college football, Week 6 is primed to bring another round of fireworks. The biggest games of the week—Vanderbilt at Alabama and Miami at Florida State—are a pair of Top 25 matchups. Six more ranked teams are hitting the road, and those ...\n",
      "\n",
      "--- Content from https://www.cnn.com/business/work-transformed ---\n",
      "Work Transformed | CNN Business Adobe Stock Companies can no longer silence laid-off employees in exchange for severance Adobe Stock You’ve been laid off. Here’s what to post on social media, and what to leave out Adobe Stock Get ready for bigger paychecks: Record high increases expected in 2023 Michael Nagle/Bloomberg/Getty Images Stocks have been clobbered this year, but people are still contributing to their retirement accounts Adobe Stock Flu, RSV, Covid: 6 ways employers can deal with a pot...\n",
      "\n",
      "--- Content from https://cnn.com/cnn-underscored/reviews/snorinator-anti-snoring-pillow ---\n",
      "I tested the ‘Shark Tank’-approved Snorinator anti-snoring pillow | CNN Underscored All products are independently selected and reviewed by CNN Underscored editors. When you buy through links on our site, we may earn a commission. Learn more Reviews The Snorinator anti-snoring pillow I tested in April just got a ‘Shark Tank’ deal By Daniel Toy , CNN Underscored Updated 9:03 AM EDT, Thu October 2, 2025 Link Copied! Daniel Toy/CNN Underscored What's in this review What I liked about it What I didn...\n",
      "\n",
      "--- Content from https://www.cnn.com/travel/news ---\n",
      "Travel News | CNN News Lauren DeCicca/Getty Images This is the best city in the world for 20-somethings, according to Time Out Publishing giant Time Out has revealed its first-ever ranking of the world’s best cities for young people. An Asian city has claimed the No.1 spot. Brendan Smialowski/AFP/Getty Images What the federal government shutdown might mean for flights and other travel in the US Vincent Alban/Bloomberg/Getty Images Chicago and Atlanta climb rankings of the world’s most connected ...\n",
      "\n",
      "--- Content from https://cnn.com/cnn-underscored/reviews/best-headphones-for-sleeping ---\n",
      "Error fetching https://cnn.com/cnn-underscored/reviews/best-headphones-for-sleeping: 403 Client Error: Forbidden for url: https://cnn.com/cnn-underscored/reviews/best-headphones-for-sleeping...\n",
      "\n",
      "--- Content from https://cnn.com/travel/american-woman-move-spain-30s-helping-others ---\n",
      "‘I have to pinch myself’: This American woman moved to Spain in her 30s, now she’s helping others do the same | CNN Living the Dream Ad Feedback Travel • 6 min read FOR SUBSCRIBERS ‘I have to pinch myself’: This American woman moved to Spain in her 30s, now she’s helping others do the same By Tamara Hardingham-Gill PUBLISHED Oct 2, 2025, 8:00 AM ET Cepee Tabibian was a self-confessed \"job hopper\" before she relocated to Spain and created her dream career. Courtesy Cepee Tabibian Facebook Tweet E...\n",
      "\n",
      "--- Content from https://cnn.com/cnn-underscored/home/editor-favorite-car-products ---\n",
      "Error fetching https://cnn.com/cnn-underscored/home/editor-favorite-car-products: 403 Client Error: Forbidden for url: https://cnn.com/cnn-underscored/home/editor-favorite-car-products...\n",
      "\n",
      "--- Content from https://help.cnn.com/ ---\n",
      "CNN | Help Center Sign Up & Get Started Start CNN subscription Sign in to CNN CNN devices View All Watch CNN CNN settings CNN notifications and emails Stream CNN using AirPlay View All Account & Sign In Sign in to CNN Can't sign in: TV provider Can't sign in: CNN account View All Billing & Subscription Start CNN subscription Manage CNN subscription Troubleshoot CNN View All Featured articles Start CNN subscription Manage CNN subscription How do I...? Sign in to CNN Troubleshoot CNN...\n",
      "\n",
      "--- Content from https://www.cnn.com/about/live-tv ---\n",
      "Watch CNN Live TV | CNN Watch CNN Live TV Open the CNN app and watch Live TV Don't have the app? Download from the app store. Other Ways To Watch Live TV Desktop Watch CNN on your browser Desktop and Mobile Web. Tap Live TV on the main navigation. iPhone Install the CNN app for iOS iPhone and iPad devices. Tap Watch on the main navigation. ﻿Watch live TV Button and Android BG Android Install the CNN app for Android Mobile & Tablet devices. Tap Watch on the main navigation. Roku Logo Roku Add CNN...\n",
      "\n",
      "--- Content from https://cnn.com/world/live-news/manchester-uk-synagogue-attack-10-02-25 ---\n",
      "Live updates: Manchester synagogue attack that killed 2 is being treated as terrorism, UK police say | CNN Brendan Smialowski/AFP/Getty Images Live Updates Government shutdown Peter Byrne/PA/AP Live Updates Deadly UK synagogue attack Chip Somodevilla/Getty Images Live Updates En español: cierre del Gobierno de EE.UU Live Updates Attack on Manchester synagogue that killed 2 is being treated as terrorism, UK police say By Sana Noor Haq , Peter Wilkinson , Charlotte Reck , Sophie Tanno and Billy St...\n",
      "\n",
      "--- Content from https://www.linkedin.com/company/cnn ---\n",
      "CNN | LinkedIn Skip to main content CNN Broadcast Media Production and Distribution See jobs Follow Discover all 6,556 employees Report this company About us CNN Worldwide is the most honored brand in cable news, reaching more individuals on television and online than any other cable news organization in the United States. Globally, people across the world can watch CNN International, which is widely distributed in over 200 countries and territories. CNN Digital is the #1 online news destination...\n",
      "\n",
      "--- Content from https://cnn.com/cnn-underscored/reviews/best-water-flossers ---\n",
      "Error fetching https://cnn.com/cnn-underscored/reviews/best-water-flossers: 403 Client Error: Forbidden for url: https://cnn.com/cnn-underscored/reviews/best-water-flossers...\n",
      "\n",
      "--- Content from https://www.cnn.com/about ---\n",
      "ABOUT CNN DIGITAL | CNN About CNN Worldwide CNN Worldwide is the most honored brand in cable news, reaching more individuals on television and online than any other cable news organization in the United States.Globally, people across the world can watch CNN International, which is widely distributed in over 200 countries and territories. CNN Digital is the #1 online news destination, with more unique visitors than any other news source. CNN’s award-winning portfolio includes non-scripted program...\n",
      "\n",
      "--- Content from https://cnn.com/2025/10/02/sport/video/afghan-womens-refugee-team-uk-digvid-vrtc ---\n",
      "Afghan women soccer players on their fight for recognition | CNN Afghan women soccer players on their fight for recognition By Phil ClarkeHill , CNN Published 12:00 AM EDT, Thu October 2, 2025 Link Copied! Video Ad Feedback Afghan women soccer players on their fight for recognition The Afghan women’s soccer team hasn’t been able to play since the Taliban returned to power in 2021. Now, FIFA has announced the Afghan women’s refugee squad in an unprecedented step. CNN’s Amanda Davies met with seve...\n",
      "\n",
      "--- Content from https://cnn.com/politics/live-news/government-shutdown-news-10-02-25 ---\n",
      "Live updates: Government shutdown extends, Trump administration warns of layoffs | CNN Politics Brendan Smialowski/AFP/Getty Images Live Updates Government shutdown Peter Byrne/PA/AP Live Updates Deadly UK synagogue attack Chip Somodevilla/Getty Images Live Updates En español: cierre del Gobierno de EE.UU Live Updates No clear path out of the shutdown as White House warns firings could be ‘in the thousands’ By Maureen Chowdhury , Rebekah Riess , Elise Hammond and Dalia Faheid , CNN Updated 4:50 ...\n",
      "\n"
     ]
    }
   ],
   "source": [
    "base_url = \"https://cnn.com\"\n",
    "\n",
    "import requests\n",
    "from bs4 import BeautifulSoup\n",
    "from urllib.parse import urljoin\n",
    "\n",
    "USEFUL_KEYWORDS = [\n",
    "    \"about\", \"company\", \"who-we-are\", \"our-story\", \"team\",\n",
    "    \"service\", \"services\", \"solutions\", \"what-we-do\",\n",
    "    \"product\", \"products\", \"offerings\", \"portfolio\",\n",
    "    \"feature\", \"features\", \"capabilities\",\n",
    "    \"pricing\", \"plans\", \"packages\", \"rates\",\n",
    "    \"case-study\", \"case-studies\", \"success\", \"projects\", \"work\",\n",
    "    \"testimonial\", \"testimonials\", \"reviews\", \"clients\", \"customers\",\n",
    "    \"contact\", \"contact-us\", \"support\", \"help\", \"enquiry\", \"get-in-touch\",\n",
    "    \"blog\", \"insights\", \"resources\", \"news\", \"articles\"\n",
    "]\n",
    "\n",
    "def get_useful_links(base_url):\n",
    "    try:\n",
    "        response = requests.get(base_url, timeout=10)\n",
    "        response.raise_for_status()\n",
    "    except Exception as e:\n",
    "        print(f\"Error fetching {base_url}: {e}\")\n",
    "        return []\n",
    "\n",
    "    soup = BeautifulSoup(response.text, \"html.parser\")\n",
    "    links = set()\n",
    "\n",
    "    for a in soup.find_all(\"a\", href=True):\n",
    "        href = a[\"href\"].lower()\n",
    "        full_url = urljoin(base_url, href)\n",
    "\n",
    "        # check if any keyword matches in the link\n",
    "        if any(keyword in href for keyword in USEFUL_KEYWORDS):\n",
    "            links.add(full_url)\n",
    "\n",
    "    return list(links)\n",
    "useful_paths = get_useful_links(base_url)\n",
    "print(\"Useful paths found:\", useful_paths)\n",
    "\n",
    "for path in useful_paths:\n",
    "    page_text = scrape_page_text(base_url, path)\n",
    "    print(f\"--- Content from {path} ---\\n{page_text[:500]}...\\n\")\n"
   ]
  },
  {
   "cell_type": "code",
   "execution_count": null,
   "id": "c1a8ba5c",
   "metadata": {},
   "outputs": [],
   "source": []
  }
 ],
 "metadata": {
  "kernelspec": {
   "display_name": "llm_venv",
   "language": "python",
   "name": "python3"
  },
  "language_info": {
   "codemirror_mode": {
    "name": "ipython",
    "version": 3
   },
   "file_extension": ".py",
   "mimetype": "text/x-python",
   "name": "python",
   "nbconvert_exporter": "python",
   "pygments_lexer": "ipython3",
   "version": "3.13.7"
  }
 },
 "nbformat": 4,
 "nbformat_minor": 5
}
